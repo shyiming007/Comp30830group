{
 "cells": [
  {
   "cell_type": "code",
   "execution_count": null,
   "id": "059f5737",
   "metadata": {},
   "outputs": [],
   "source": [
    "sql = \"\"\"\n",
    "CREATE TABLE IF NOT EXISTS station(\n",
    "address VARCHAR(256),\n",
    "banking INTEGER,\n",
    "bike_stands INTEGER,\n",
    "bonus INTEGER,\n",
    "contract_name VARCHAR(256),\n",
    "name VARCHAR(256),\n",
    "number INTEGER,\n",
    "position_lat REAL,\n",
    "position_lng REAL,\n",
    "status VARCHAR(256)\n",
    ")\n",
    "\"\"\"\n",
    "\n",
    "try:\n",
    "    res = engine.execute(\"DROP TABLE IF EXISTS station\")\n",
    "    res = engine.execute(sql)\n",
    "    print(res.fetchall())\n",
    "except Exception as e:\n",
    "    print(e)"
   ]
  },
  {
   "cell_type": "code",
   "execution_count": null,
   "id": "c282b3e7",
   "metadata": {},
   "outputs": [],
   "source": [
    "sql = \"\"\"\n",
    "CREATE TABLE IF NOT EXISTS availability(\n",
    "number INTEGER,\n",
    "available_bikes INTEGER,\n",
    "available_bike_stands INTEGER,\n",
    "last_update INTEGER\n",
    ")\n",
    "\"\"\"\n",
    "\n",
    "try:\n",
    "    res = engine.execute(sql)\n",
    "    print(res.fetchall())\n",
    "except Exception as e:\n",
    "    print(e)"
   ]
  }
 ],
 "metadata": {
  "kernelspec": {
   "display_name": "Python 3 (ipykernel)",
   "language": "python",
   "name": "python3"
  },
  "language_info": {
   "codemirror_mode": {
    "name": "ipython",
    "version": 3
   },
   "file_extension": ".py",
   "mimetype": "text/x-python",
   "name": "python",
   "nbconvert_exporter": "python",
   "pygments_lexer": "ipython3",
   "version": "3.10.9"
  }
 },
 "nbformat": 4,
 "nbformat_minor": 5
}
