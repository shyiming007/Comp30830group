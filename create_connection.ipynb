{
 "cells": [
  {
   "cell_type": "code",
   "execution_count": null,
   "id": "b4d2a37f",
   "metadata": {},
   "outputs": [],
   "source": [
    "import sqlalchemy as sqla\n",
    "from sqlalchemy import create_engine\n",
    "import traceback\n",
    "import glob\n",
    "import os\n",
    "from pprint import pprint\n",
    "import simplejson as json\n",
    "import requests\n",
    "import time\n",
    "from IPython.display import display\n",
    "\n",
    "URI=\"dbbikes.ci3iggfwlke6.eu-west-1.rds.amazonaws.com\"\n",
    "PORT=\"3306\"\n",
    "DB = \"dbbikes\"\n",
    "USER = \"admin\"\n",
    "PASSWORD = \"00000000\"\n",
    "\n",
    "engine = create_engine(\"mysql+mysqlconnector://{}:{}@{}:{}/{}\".format(USER, PASSWORD, URI, PORT, DB), echo=True)\n",
    "\n",
    "sql = \"\"\"\n",
    "CREATE DATABASE IF NOT EXISTS dbbikes;\n",
    "\"\"\"\n",
    "engine.execute(sql)\n",
    "\n",
    "for res in engine.execute(\"SHOW VARIABLES;\"):\n",
    "    print(res)"
   ]
  }
 ],
 "metadata": {
  "kernelspec": {
   "display_name": "Python 3 (ipykernel)",
   "language": "python",
   "name": "python3"
  },
  "language_info": {
   "codemirror_mode": {
    "name": "ipython",
    "version": 3
   },
   "file_extension": ".py",
   "mimetype": "text/x-python",
   "name": "python",
   "nbconvert_exporter": "python",
   "pygments_lexer": "ipython3",
   "version": "3.10.9"
  }
 },
 "nbformat": 4,
 "nbformat_minor": 5
}
